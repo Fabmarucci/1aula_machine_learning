{
  "nbformat": 4,
  "nbformat_minor": 0,
  "metadata": {
    "colab": {
      "name": "Projeto Machine Learning Python marcacoes",
      "provenance": [],
      "authorship_tag": "ABX9TyODCM3TInvoZDwth3p47N7h",
      "include_colab_link": true
    },
    "kernelspec": {
      "name": "python3",
      "display_name": "Python 3"
    },
    "language_info": {
      "name": "python"
    }
  },
  "cells": [
    {
      "cell_type": "markdown",
      "metadata": {
        "id": "view-in-github",
        "colab_type": "text"
      },
      "source": [
        "<a href=\"https://colab.research.google.com/github/Fabmarucci/1aula_machine_learning/blob/main/Projeto_Machine_Learning_Python_marcacoes.ipynb\" target=\"_parent\"><img src=\"https://colab.research.google.com/assets/colab-badge.svg\" alt=\"Open In Colab\"/></a>"
      ]
    },
    {
      "cell_type": "code",
      "source": [
        "pip install scikit-learn\n"
      ],
      "metadata": {
        "colab": {
          "base_uri": "https://localhost:8080/"
        },
        "id": "ZcRBi3cVeNXm",
        "outputId": "d4024eec-f29c-4d54-ac52-6b636896674f"
      },
      "execution_count": null,
      "outputs": [
        {
          "output_type": "stream",
          "name": "stdout",
          "text": [
            "Looking in indexes: https://pypi.org/simple, https://us-python.pkg.dev/colab-wheels/public/simple/\n",
            "Requirement already satisfied: scikit-learn in /usr/local/lib/python3.7/dist-packages (1.0.2)\n",
            "Requirement already satisfied: numpy>=1.14.6 in /usr/local/lib/python3.7/dist-packages (from scikit-learn) (1.21.6)\n",
            "Requirement already satisfied: joblib>=0.11 in /usr/local/lib/python3.7/dist-packages (from scikit-learn) (1.1.0)\n",
            "Requirement already satisfied: scipy>=1.1.0 in /usr/local/lib/python3.7/dist-packages (from scikit-learn) (1.7.3)\n",
            "Requirement already satisfied: threadpoolctl>=2.0.0 in /usr/local/lib/python3.7/dist-packages (from scikit-learn) (3.1.0)\n"
          ]
        }
      ]
    },
    {
      "cell_type": "code",
      "source": [
        "# eh gordinho? tem perninha curta? se faz au au\n",
        "porco1 =    [1, 1, 0]\n",
        "porco2 =    [1, 1, 0]\n",
        "porco3 =    [1, 1, 0]\n",
        "cachorro1 = [1, 1, 1]\n",
        "cachorro2 = [0, 1, 1]\n",
        "cachorro3 = [0, 1, 1]\n",
        "\n",
        "dados = [porco1, porco2, porco3, cachorro1, cachorro2, cachorro3]\n",
        "marcacoes = [1, 1, 1, -1, -1, -1]\n",
        "\n",
        "from sklearn.naive_bayes import MultinomialNB\n",
        "\n",
        "modelo = MultinomialNB()\n",
        "modelo.fit(dados, marcacoes)\n",
        "\n",
        "misterioso1 = [1, 1, 1]\n",
        "misterioso2 = [1, 0, 0]\n",
        "misterioso3 = [1, 0, 1]\n",
        "testes = [misterioso1, misterioso2, misterioso3]\n",
        "marcacoes_teste = [-1, 1, 1]\n",
        "\n",
        "resultado = modelo.predict(testes)\n",
        "print(resultado)\n",
        "\n",
        "diferencas = resultado - marcacoes_teste\n",
        "\n",
        "acertos = [d for d in diferencas if d==0]\n",
        "total_de_acertos = len(acertos)\n",
        "total_de_elementos = len(testes)\n",
        "\n",
        "taxa_de_acerto = 100.0 * total_de_acertos / total_de_elementos\n",
        "print(taxa_de_acerto)\n",
        "\n",
        "\n"
      ],
      "metadata": {
        "colab": {
          "base_uri": "https://localhost:8080/"
        },
        "id": "NxQD9lAdmhgO",
        "outputId": "e005a687-79d1-47eb-dfbf-f4741b13300c"
      },
      "execution_count": 10,
      "outputs": [
        {
          "output_type": "stream",
          "name": "stdout",
          "text": [
            "[-1  1 -1]\n",
            "66.66666666666667\n"
          ]
        }
      ]
    }
  ]
}